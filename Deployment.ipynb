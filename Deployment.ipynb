{
  "nbformat": 4,
  "nbformat_minor": 0,
  "metadata": {
    "colab": {
      "provenance": []
    },
    "kernelspec": {
      "name": "python3",
      "display_name": "Python 3"
    },
    "language_info": {
      "name": "python"
    }
  },
  "cells": [
    {
      "cell_type": "code",
      "source": [
        "from sklearn.cluster import KMeans\n",
        "from sklearn.preprocessing import StandardScaler\n",
        "import joblib\n",
        "import pandas as pd\n",
        "\n",
        "# Assuming you have a pandas DataFrame named 'data' with your customer features\n",
        "# Replace this with your actual data loading and preparation\n",
        "data = {\n",
        "    \"Cluster\": [0, 1, 2, 3],\n",
        "    \"Age\": [47.398892, 67.818702, 66.120763, 47.714559],\n",
        "    \"Income\": [31938.313712, 68055.369275, 44376.452331, 71545.792146],\n",
        "    \"Total_Spend\": [101.256233, 1105.106870, 199.894068, 1169.454023],\n",
        "    \"NumWebPurchases\": [2.142659, 6.423664, 2.881356, 5.511494],\n",
        "    \"NumStorePurchases\": [3.113573, 8.280534, 4.059322, 8.557471]\n",
        " }\n",
        "\n",
        "# Convert the dictionary to a pandas DataFrame\n",
        "df = pd.DataFrame(data)\n",
        "\n",
        "# Select the features for clustering\n",
        "features = ['Age', 'Income', 'Total_Spend', 'NumWebPurchases', 'NumStorePurchases']\n",
        "X = df[features]\n",
        "\n",
        "# Scale the data\n",
        "scaler = StandardScaler()\n",
        "X_scaled = scaler.fit_transform(X)\n",
        "\n",
        "# Train the KMeans model (replace n_clusters with your desired number of clusters)\n",
        "kmeans = KMeans(n_clusters=3, random_state=42, n_init=10) # Added n_init\n",
        "kmeans.fit(X_scaled)\n",
        "\n",
        "# Save the KMeans model\n",
        "joblib.dump(kmeans, 'Kmeans_model.pkl')\n",
        "\n",
        "# Save the scaler\n",
        "joblib.dump(scaler, 'scalar.pkl')"
      ],
      "metadata": {
        "colab": {
          "base_uri": "https://localhost:8080/"
        },
        "collapsed": true,
        "id": "t1Dow_VbBj24",
        "outputId": "28f74a65-bc68-4395-dd71-7c5eaa9bdd8c"
      },
      "execution_count": null,
      "outputs": [
        {
          "output_type": "execute_result",
          "data": {
            "text/plain": [
              "['scalar.pkl']"
            ]
          },
          "metadata": {},
          "execution_count": 21
        }
      ]
    },
    {
      "cell_type": "code",
      "source": [
        "import streamlit as st\n",
        "import pandas as pd\n",
        "import numpy as np\n",
        "import joblib\n",
        "\n",
        "Kmeans=joblib.load(\"Kmeans_model.pkl\")\n",
        "scalar=joblib.load(\"scalar.pkl\")\n",
        "\n",
        "st.title(\"Customer Segmentation App\")\n",
        "st.write(\"Enter customer details to predict the segment.\")\n",
        "\n",
        "\n",
        "Age=st.number_input(\"Age\",min_value=18,max_value=100,value=35)\n",
        "Income=st.number_input(\"Income\",min_value=0,max_value=200000,value=50000)\n",
        "Total_Spending=st.number_input(\"Total_Spending(sum of purchases)\",min_value=0,max_value=50000,value=10000)\n",
        "NumWebPurchases = st.number_input(\"Number of Web Purchases\", min_value=0, value=5)\n",
        "NumStorePurchases = st.number_input(\"Number of Store Purchases\", min_value=0, value=5)\n",
        "\n",
        "\n",
        "\n",
        "input_data=pd.DataFrame({\n",
        "    \"Age\":[Age],\n",
        "    \"Income\":[Income],\n",
        "    \"Total_Spend\":[Total_Spending],\n",
        "    \"NumWebPurchases\": [NumWebPurchases],\n",
        "    \"NumStorePurchases\": [NumStorePurchases]\n",
        "})\n",
        "\n",
        "input_scaled=scalar.transform(input_data)\n",
        "\n",
        "if st.button(\"Predict Segment\"):\n",
        "\n",
        "  cluster=Kmeans.predict(input_scaled)[0]\n",
        "\n",
        "  st.success(f\"The predicted segment is:Cluster {cluster}\")"
      ],
      "metadata": {
        "id": "19uM87ej7M0p",
        "colab": {
          "base_uri": "https://localhost:8080/"
        },
        "outputId": "b772e9e7-c85d-40ba-9e4e-87127f541dfe"
      },
      "execution_count": null,
      "outputs": [
        {
          "output_type": "stream",
          "name": "stderr",
          "text": [
            "2025-08-19 11:34:18.472 Thread 'MainThread': missing ScriptRunContext! This warning can be ignored when running in bare mode.\n",
            "2025-08-19 11:34:18.473 Thread 'MainThread': missing ScriptRunContext! This warning can be ignored when running in bare mode.\n",
            "2025-08-19 11:34:18.474 Thread 'MainThread': missing ScriptRunContext! This warning can be ignored when running in bare mode.\n",
            "2025-08-19 11:34:18.475 Thread 'MainThread': missing ScriptRunContext! This warning can be ignored when running in bare mode.\n",
            "2025-08-19 11:34:18.475 Thread 'MainThread': missing ScriptRunContext! This warning can be ignored when running in bare mode.\n",
            "2025-08-19 11:34:18.476 Thread 'MainThread': missing ScriptRunContext! This warning can be ignored when running in bare mode.\n",
            "2025-08-19 11:34:18.477 Thread 'MainThread': missing ScriptRunContext! This warning can be ignored when running in bare mode.\n",
            "2025-08-19 11:34:18.477 Thread 'MainThread': missing ScriptRunContext! This warning can be ignored when running in bare mode.\n",
            "2025-08-19 11:34:18.478 Thread 'MainThread': missing ScriptRunContext! This warning can be ignored when running in bare mode.\n",
            "2025-08-19 11:34:18.479 Thread 'MainThread': missing ScriptRunContext! This warning can be ignored when running in bare mode.\n",
            "2025-08-19 11:34:18.480 Thread 'MainThread': missing ScriptRunContext! This warning can be ignored when running in bare mode.\n",
            "2025-08-19 11:34:18.480 Thread 'MainThread': missing ScriptRunContext! This warning can be ignored when running in bare mode.\n",
            "2025-08-19 11:34:18.481 Thread 'MainThread': missing ScriptRunContext! This warning can be ignored when running in bare mode.\n",
            "2025-08-19 11:34:18.482 Thread 'MainThread': missing ScriptRunContext! This warning can be ignored when running in bare mode.\n",
            "2025-08-19 11:34:18.482 Thread 'MainThread': missing ScriptRunContext! This warning can be ignored when running in bare mode.\n",
            "2025-08-19 11:34:18.483 Thread 'MainThread': missing ScriptRunContext! This warning can be ignored when running in bare mode.\n",
            "2025-08-19 11:34:18.483 Thread 'MainThread': missing ScriptRunContext! This warning can be ignored when running in bare mode.\n",
            "2025-08-19 11:34:18.484 Thread 'MainThread': missing ScriptRunContext! This warning can be ignored when running in bare mode.\n",
            "2025-08-19 11:34:18.484 Thread 'MainThread': missing ScriptRunContext! This warning can be ignored when running in bare mode.\n",
            "2025-08-19 11:34:18.485 Thread 'MainThread': missing ScriptRunContext! This warning can be ignored when running in bare mode.\n",
            "2025-08-19 11:34:18.485 Thread 'MainThread': missing ScriptRunContext! This warning can be ignored when running in bare mode.\n",
            "2025-08-19 11:34:18.486 Thread 'MainThread': missing ScriptRunContext! This warning can be ignored when running in bare mode.\n",
            "2025-08-19 11:34:18.487 Thread 'MainThread': missing ScriptRunContext! This warning can be ignored when running in bare mode.\n",
            "2025-08-19 11:34:18.487 Thread 'MainThread': missing ScriptRunContext! This warning can be ignored when running in bare mode.\n",
            "2025-08-19 11:34:18.487 Thread 'MainThread': missing ScriptRunContext! This warning can be ignored when running in bare mode.\n",
            "2025-08-19 11:34:18.488 Thread 'MainThread': missing ScriptRunContext! This warning can be ignored when running in bare mode.\n",
            "2025-08-19 11:34:18.488 Thread 'MainThread': missing ScriptRunContext! This warning can be ignored when running in bare mode.\n",
            "2025-08-19 11:34:18.489 Thread 'MainThread': missing ScriptRunContext! This warning can be ignored when running in bare mode.\n",
            "2025-08-19 11:34:18.489 Thread 'MainThread': missing ScriptRunContext! This warning can be ignored when running in bare mode.\n",
            "2025-08-19 11:34:18.490 Thread 'MainThread': missing ScriptRunContext! This warning can be ignored when running in bare mode.\n",
            "2025-08-19 11:34:18.490 Thread 'MainThread': missing ScriptRunContext! This warning can be ignored when running in bare mode.\n",
            "2025-08-19 11:34:18.491 Thread 'MainThread': missing ScriptRunContext! This warning can be ignored when running in bare mode.\n",
            "2025-08-19 11:34:18.491 Thread 'MainThread': missing ScriptRunContext! This warning can be ignored when running in bare mode.\n",
            "2025-08-19 11:34:18.492 Thread 'MainThread': missing ScriptRunContext! This warning can be ignored when running in bare mode.\n",
            "2025-08-19 11:34:18.492 Thread 'MainThread': missing ScriptRunContext! This warning can be ignored when running in bare mode.\n",
            "2025-08-19 11:34:18.493 Thread 'MainThread': missing ScriptRunContext! This warning can be ignored when running in bare mode.\n",
            "2025-08-19 11:34:18.493 Thread 'MainThread': missing ScriptRunContext! This warning can be ignored when running in bare mode.\n",
            "2025-08-19 11:34:18.493 Thread 'MainThread': missing ScriptRunContext! This warning can be ignored when running in bare mode.\n",
            "2025-08-19 11:34:18.494 Thread 'MainThread': missing ScriptRunContext! This warning can be ignored when running in bare mode.\n",
            "2025-08-19 11:34:18.496 Thread 'MainThread': missing ScriptRunContext! This warning can be ignored when running in bare mode.\n",
            "2025-08-19 11:34:18.496 Thread 'MainThread': missing ScriptRunContext! This warning can be ignored when running in bare mode.\n",
            "2025-08-19 11:34:18.499 Thread 'MainThread': missing ScriptRunContext! This warning can be ignored when running in bare mode.\n",
            "2025-08-19 11:34:18.503 Thread 'MainThread': missing ScriptRunContext! This warning can be ignored when running in bare mode.\n",
            "2025-08-19 11:34:18.504 Thread 'MainThread': missing ScriptRunContext! This warning can be ignored when running in bare mode.\n",
            "2025-08-19 11:34:18.504 Thread 'MainThread': missing ScriptRunContext! This warning can be ignored when running in bare mode.\n",
            "2025-08-19 11:34:18.505 Thread 'MainThread': missing ScriptRunContext! This warning can be ignored when running in bare mode.\n",
            "2025-08-19 11:34:18.505 Thread 'MainThread': missing ScriptRunContext! This warning can be ignored when running in bare mode.\n"
          ]
        }
      ]
    },
    {
      "cell_type": "code",
      "source": [],
      "metadata": {
        "id": "xUQcq9H9AA22"
      },
      "execution_count": null,
      "outputs": []
    }
  ]
}